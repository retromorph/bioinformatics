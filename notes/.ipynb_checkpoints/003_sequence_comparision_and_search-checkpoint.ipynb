{
 "cells": [
  {
   "cell_type": "markdown",
   "id": "aeb353fe-7639-4e31-baf4-29b63ccf6e63",
   "metadata": {},
   "source": [
    " # Сравнение последовательностей и поиск по последовательностям в базах данных"
   ]
  },
  {
   "cell_type": "markdown",
   "id": "d0649de8-00c3-4e18-bb5b-f3314d194311",
   "metadata": {},
   "source": [
    "## Введение"
   ]
  },
  {
   "cell_type": "markdown",
   "id": "d93b0b9c-307d-49b9-96e1-9dea41ac70dc",
   "metadata": {},
   "source": [
    "Sequence comparison is described in the sources as a fundamental and important analytical method in applied bioinformatics. It forms the basis for various tasks, including the annotation of new nucleotide and protein sequences, the construction of model structures for proteins, and the design and analysis of expression studies. The underlying principle is that nature tends to conserve successful biological concepts, adapting and modifying them over time rather than developing entirely new ones for every life form. Therefore, functional information can often be transferred from one protein to another if they show a sufficient degree of similarity. However, this transfer must be evaluated critically, as similar proteins can sometimes perform different functions. Sequence similarity can indicate evolutionary relationships, stemming from either divergent evolution (common ancestor) or convergent evolution (independent origins).\n",
    "\n",
    "Sequence comparisons are performed using alignments, which can be categorized as either global or local.\n",
    "*   **Global alignments** compare complete nucleotide or protein sequences across their entire length. To properly represent alignments, especially when sequences have different lengths due to insertions or deletions, gaps must be introduced. To prevent the arbitrary insertion of gaps, fixed penalties are assigned for opening and extending gaps, which are subtracted from the alignment score to yield a total score. The alignment with the highest total score is considered optimal. This method is based on the algorithm developed by Needleman and Wunsch.\n",
    "*   **Local alignments** compare segments of sequences. The Smith and Waterman algorithm is the basis for this method, where the identified alignment with the highest score is the starting point and the alignment ends when a zero entry is reached.\n",
    "\n",
    "For comparing more than two nucleotide or protein sequences simultaneously, **multiple sequence alignment** is used. While it's possible to compare all sequences pairwise, performing a multiple alignment and analyzing the overall result is quicker. These programs, such as ClustalW and its successor Clustal Omega, leverage the fact that similar sequences are usually homologous. The basis for multiple sequence alignments is the pairwise alignment of all sequences. A phylogeny tree can then be constructed to represent the evolutionary relationships, where horizontal branch lengths correspond to evolutionary distances. Common tools for multiple sequence alignment also include MUSCLE and MAFFT.\n",
    "\n",
    "A widely used application of sequence comparisons is the **search for similar sequences in databases**. Dynamic alignment algorithms like those by Smith and Watermann or Needleman and Wunsch are too slow for searching large databases, even on modern computers. Instead, **heuristic algorithms** are employed. These methods make assessments to obtain nearly exact results and use sequence and alignment statistics to enable searches in large databases quickly and sensitively, though they do not guarantee an optimal alignment.\n",
    "\n",
    "The **Basic Local Alignment Search Tool (BLAST)** is a prominent example of a heuristic algorithm. BLAST is available as a Web service at various sites like NCBI, EMBL-EBI, and DDBJ. It is typically performed against a nonredundant database, which consolidates entries from different databases and removes duplicates. BLAST results can be viewed graphically, summarizing the number and length of hits with color coding indicating alignment quality. E-values are used to assess homology, with values greater than 1 indicating random alignment.\n",
    "\n",
    "The BLAST family includes several specialized algorithms:\n",
    "*   **bl2seq** (BLAST two sequences) performs a local alignment of two specific sequences.\n",
    "*   **PHI-BLAST** (Pattern-Hit Initiated BLAST) searches a protein database for proteins containing sequence motifs similar to those in the query sequence.\n",
    "*   **PSI-BLAST** (Position-Specific Iterated BLAST) combines pairwise and multiple alignment. It starts with a standard BLAST search, then uses the resulting multiple alignment of hits to build a sequence profile, which is used to continue searching for new sequences iteratively. However, PSI-BLAST results can be complex and potentially misleading, requiring careful examination.\n",
    "*   **Gapped BLAST** is a local alignment method that is significantly faster than ungapped BLAST.\n",
    "*   Species-specific BLAST applications are also available.\n",
    "\n",
    "Other methods related to profile-based searching, like **Hidden Markov models (HMMs)**, operate similarly to PSI-BLAST but are slower and more sensitive, also necessitating critical review of results. The NCBI also offers a Conserved Domains Search tool to recognize conserved domains within analyzed sequences.\n",
    "\n",
    "Sequence comparison is also integral to other bioinformatic analyses:\n",
    "*   Analyzing Expressed Sequence Tags (ESTs) often involves comparison. By comparing EST sequences from different organisms, similar or new genes or proteins can be identified. It is generally recommended to perform these comparisons at the amino acid level after translating nucleotide sequences into all six reading frames, as sequences are more conserved at this level than at the nucleotide level due to species-dependent codon usage. Tools like **tBLASTx** automatically handle this translation and database comparison.\n",
    "*   **Comparative genome analyses**, or comparative genomics, involve comparing two or more genomes to find similarities and differences that provide information about the biology of the organisms. This includes analyzing genome structure, nucleotide composition, codon usage, and identifying conserved regions. Comparing genomes at the level of metabolic pathways can help identify metabolic targets, particularly effective in prokaryotes. Tools and databases like KEGG are used for comparative metabolic analyses.\n",
    "*   After genome sequencing, analyzing predicted genes and their products often involves comparing unknown sequences with known ones to assign function based on similarity. Specialized software like MUMmer exists for comparing large sequence datasets and identifying common sequences, which is necessary because conventional methods are laborious for whole genomes or proteomes. Databases like eggNOG are used to find groups of orthologous proteins, providing information like phylogenetic trees and sequence alignments of the orthologous group members.\n",
    "*   In Next-Generation Sequencing (NGS) data analysis, **sequence alignment** is a key step in the secondary analysis pipeline. This involves mapping the sequenced short reads against a reference genome, allowing for some mismatches to identify subsequence variations. Algorithms like BWAs and Bowtie (for Illumina) and TMAP (for Ion Torrent) are used for this purpose. The output is often in SAM or BAM format. Sequence alignment is computationally challenging, especially with reads from repetitive regions. Alignment errors can arise from sequencing errors or discrepancies with the reference genome. Establishing the difference between true variation and misalignment is a major difficulty. Various methods, including paired-end mapping, split-read, and read depth approaches, which rely on comparing reads to a reference, are used to detect structural variants and copy number variations from NGS data.\n",
    "\n",
    "Overall, sequence comparison, encompassing methods like pairwise and multiple alignment and sequence-based database searches using algorithms like BLAST, is a cornerstone technique in applied bioinformatics for understanding sequence function, evolutionary relationships, and analyzing large-scale genomic and proteomic data."
   ]
  },
  {
   "cell_type": "code",
   "execution_count": null,
   "id": "0efad52c-4290-47b2-9d79-a638db5a5b53",
   "metadata": {},
   "outputs": [],
   "source": []
  },
  {
   "cell_type": "markdown",
   "id": "6db34055-57c3-4229-b154-6c263d4fd138",
   "metadata": {},
   "source": [
    "Sequence comparison lies at the heart of bioinformatics analysis, enabling researchers to infer evolutionary, structural, and functional relationships from biological sequences. DNA and protein sequences encode the genetic and protein blueprints of organisms, and comparing these sequences can reveal conserved elements (e.g. active sites in enzymes or regulatory DNA motifs) and divergence due to mutations over time. Common sequence comparison tasks include pairwise alignment of two sequences and multiple sequence alignment of many sequences. These tasks form the basis for more complex analyses, such as phylogenetic tree reconstruction to deduce evolutionary history and structural alignment of proteins to compare three-dimensional folds.\n",
    "\n",
    "In this framework, we proceed from simple to complex sequence comparison problems. We begin with the basic *edit distance* and classic **pairwise alignment** algorithms (global and local alignment), then advance to **multiple sequence alignment**, and finally discuss constructing **phylogenetic trees** and performing **structural alignments**. For each task, we outline the biological motivation with examples, provide a rigorous problem formulation, describe classical algorithmic solutions (often dynamic programming-based), mention relevant machine learning-based methods, highlight important nuances in usage, give real-world examples, and list software implementing the algorithms."
   ]
  },
  {
   "cell_type": "markdown",
   "id": "66d13bef-6fb6-4bbc-ac16-1d747630e595",
   "metadata": {},
   "source": [
    "## Алгоритмы попарного выравнивания"
   ]
  },
  {
   "cell_type": "markdown",
   "id": "d7683b185c7372d3",
   "metadata": {},
   "source": [
    "Попарное выравнивание последовательностей - это задача сравнения двух последовательностей (ДНК, РНК или белка) для определения максимально похожих областей. С биологической точки зрения, попарное выравнивание может показать, имеют ли два гена/белка общего предка или функцию, выявляя консервативные позиции (например, остатки активного центра в ферментах) и минимальные изменения или мутации, необходимые для превращения одной последовательности в другую. Например, выравнивание последовательностей гена **BRCA1** человека и мыши может выявить мутации и консервативные домены, проливая свет на их функциональное сходство и эволюционное расстояние.\n"
   ]
  },
  {
   "cell_type": "markdown",
   "id": "f42789f9-0199-4cc0-9e67-fde18ab7eb0e",
   "metadata": {},
   "source": [
    "### Расстояние редактирования"
   ]
  },
  {
   "cell_type": "markdown",
   "id": "371e66a7371d26d0",
   "metadata": {},
   "source": [
    "Один из простейших алгоритмов глобального выравнивания - подсчет расстояния редактирования (расстояния Левенштейна).\n",
    "\n",
    "Пусть $\\Sigma$ - алфавит, $S_1, S_2$ - слова этого алфавита, тогда\n",
    "\n",
    "**Определение:** Расстояние Левенштейна $d(S_1, S_2)$ - это минимальное количество операций вставки, замены и удаления, которые нужно произвести над словом $S_1$ чтобы получить $S_2$\n",
    "\n",
    "Таким образом, можно попробовать использовать расстояние Левенштейна как метрику сходства биологических последовательностей."
   ]
  },
  {
   "cell_type": "markdown",
   "id": "5838435a02a89f2f",
   "metadata": {},
   "source": [
    "The biological motivation for edit distance is to estimate how many simple mutations (point mutations or indels) separate two sequences. For instance, the edit distance between two mitochondrial DNA sequences can indicate their evolutionary divergence in terms of mutation events. However, **edit distance treats all mutations equally**, which is a simplification; biological mutations have different probabilities (e.g. transitions vs transversions in DNA) and differing impact on protein function (e.g. conservative vs radical amino acid changes). Thus, more refined scoring schemes are used in practice for alignment.\n",
    "\n",
    "In protein sequences, for instance, swapping a leucine to isoleucine (chemically similar amino acids) is less drastic than phenylalanine to glycine, but raw edit distance wouldn’t distinguish them. Additionally, edit distance does not account for gap opening vs extension differences – which is important because biologically a single insertion of 5 bases is different from 5 separate single-base insertions. Despite its simplicity, edit distance is useful for a quick, rough measure of sequence difference or as a basis for more complex models."
   ]
  },
  {
   "cell_type": "markdown",
   "id": "476d6eca6856ae82",
   "metadata": {},
   "source": [
    "**Real-world usage:** Edit distance finds use in quality control of DNA sequence data (e.g. how many errors separate a sequenced read from a reference sequence), and in clustering sequences by similarity. In genomics, aligning short sequencing reads to a reference genome often involves computing a form of edit distance (allowing a limited number of mismatches/indels). Another example is comparing viral genome sequences to count the number of mutations between strains."
   ]
  },
  {
   "cell_type": "markdown",
   "id": "3e8ebe8e8ab12427",
   "metadata": {},
   "source": [
    " The **edit distance** (Levenshtein distance) between two sequences is the minimum number of single-character edit operations (substitution, insertion, deletion) required to change one sequence into the other. It provides a simple quantification of dissimilarity. Formally, given two strings \\$S\\_1\\$ (length \\$n\\$) and \\$S\\_2\\$ (length \\$m\\$) over an alphabet (e.g. {A,C,G,T} for DNA), the edit distance \\$d(S\\_1,S\\_2)\\$ is the minimum number of edits to transform \\$S\\_1\\$ into \\$S\\_2\\$. Each edit has a cost (often 1 per insertion/deletion or substitution), and we seek a sequence of edits of minimal total cost. This can be formulated via a recurrence: if we let \\$D(i,j)\\$ be the minimum edit cost to align \\$S\\_1\\[1..i]\\$ with \\$S\\_2\\[1..j]\\$, then we have the recurrence (Wagner-Fischer algorithm):\n",
    "\n",
    "- $D(0,0) = 0$ (aligning two empty sequences has zero cost).\n",
    "- $D(i,0) = i$ (aligning $i$ letters with none requires $i$ deletions), and $D(0,j) = j$ symmetrically.\n",
    "- For $i > 0,\\; j > 0$:\n",
    "  \n",
    "  $$D(i,j) = \\min\\bigl\\{\\,D(i-1,j) + 1,\\;D(i,j-1) + 1,\\;D(i-1,j-1) + \\delta\\bigl(S_1[i],\\,S_2[j]\\bigr)\\bigr\\},$$\n",
    "  \n",
    "  where\n",
    "  $$\n",
    "  \\delta(x,y) =\n",
    "  \\begin{cases}\n",
    "    0, & \\text{if } x = y \\quad(\\text{match}),\\\\\n",
    "    1, & \\text{if } x \\neq y \\quad(\\text{substitution}).\n",
    "  \\end{cases}\n",
    "  $$\n",
    "\n",
    "This dynamic programming computes \\$D(n,m)\\$ in \\$O(nm)\\$ time and space, yielding the edit distance.\n",
    "\n",
    "**Algorithmic solution:** The edit distance algorithm is a specific case of the global alignment dynamic programming where match score = 0 and mismatch or gap penalty = 1. It is solved by filling an \\$(n+1)\\times(m+1)\\$ DP matrix with the above recurrence. This is essentially the Needleman–Wunsch algorithm (see below) with uniform costs. Time complexity is \\$O(nm)\\$ and space \\$O(nm)\\$, though space can be reduced to \\$O(\\min{n,m})\\$ using Hirschberg’s algorithm for computing distance only. There are also specialized fast implementations using bit-parallelism for long sequences."
   ]
  },
  {
   "cell_type": "code",
   "execution_count": 1,
   "id": "2caeba5a03bf86f4",
   "metadata": {},
   "outputs": [
    {
     "name": "stdout",
     "output_type": "stream",
     "text": [
      "Edit distance between ATGCT and AGCT is: 1\n",
      "Edit distance between HEAGAWGHEE and PAWHEAE is: 6\n"
     ]
    }
   ],
   "source": [
    "def edit_distance(str1, str2):\n",
    "    # Create a matrix to store distances\n",
    "    m, n = len(str1), len(str2)\n",
    "    dp = [[0] * (n + 1) for _ in range(m + 1)]\n",
    "\n",
    "    # Initialize first row and column\n",
    "    for i in range(m + 1):\n",
    "        dp[i][0] = i\n",
    "    for j in range(n + 1):\n",
    "        dp[0][j] = j\n",
    "\n",
    "    # Fill dp matrix using dynamic programming\n",
    "    for i in range(1, m + 1):\n",
    "        for j in range(1, n + 1):\n",
    "            if str1[i - 1] == str2[j - 1]:\n",
    "                dp[i][j] = dp[i - 1][j - 1]\n",
    "            else:\n",
    "                dp[i][j] = 1 + min(\n",
    "                    dp[i - 1][j],  # deletion\n",
    "                    dp[i][j - 1],  # insertion\n",
    "                    dp[i - 1][j - 1]  # substitution\n",
    "                )\n",
    "\n",
    "    return dp[m][n]\n",
    "\n",
    "\n",
    "# Example usage\n",
    "str1 = \"ATGCT\"\n",
    "str2 = \"AGCT\"\n",
    "print(f\"Edit distance between {str1} and {str2} is: {edit_distance(str1, str2)}\")\n",
    "\n",
    "# Test with protein sequences\n",
    "protein1 = \"HEAGAWGHEE\"\n",
    "protein2 = \"PAWHEAE\"\n",
    "print(f\"Edit distance between {protein1} and {protein2} is: {edit_distance(protein1, protein2)}\")\n"
   ]
  },
  {
   "cell_type": "markdown",
   "id": "c9654613f5920db9",
   "metadata": {},
   "source": [
    "**Software:** Many libraries and tools implement edit distance. For example, the **EDLIB** C/C++ library provides a fast edit distance alignment for DNA sequences using bit-level parallelism. In Python, the `python-Levenshtein` package computes edit distance efficiently. In bioinformatics pipelines, alignment tools like **Bowtie** or **BWA** (for short-read alignment) effectively use a constrained edit distance when aligning reads to a genome (they allow up to a certain edit distance). Classic global alignment tools (below) also compute edit distance if given equal weights."
   ]
  },
  {
   "cell_type": "markdown",
   "id": "2e4fc6b56618cc86",
   "metadata": {},
   "source": [
    "### Global Alignment & Needleman–Wunsch Algorithm"
   ]
  },
  {
   "cell_type": "markdown",
   "id": "5f1d8d861259f918",
   "metadata": {},
   "source": [
    "Global alignment aims to align two sequences from end to end, aligning their entirety (including ends, which may require introducing leading/trailing gaps). This is appropriate when two sequences are of comparable length and are believed to be generally similar over their full length (for example, two homologous genes or proteins). The **Needleman–Wunsch algorithm** (1970) is the classic dynamic programming solution for optimal global alignment."
   ]
  },
  {
   "cell_type": "markdown",
   "id": "711503ac-1c92-41bf-8e13-731ba2c905ee",
   "metadata": {},
   "source": [
    "**Problem formulation:** Formally, given two sequences \\$S\\_1 = s\\_1 s\\_2 \\dots s\\_n\\$ and \\$S\\_2 = t\\_1 t\\_2 \\dots t\\_m\\$, and a scoring scheme that gives a score (or cost) for aligning two characters \\$s\\_i\\$ with \\$t\\_j\\$ (including the possibility that either character is a gap “–”), the global alignment problem seeks an alignment (a sequence of match/mismatch/gap pairings covering both entire sequences) that maximizes the total alignment score (or equivalently, minimizes total cost). An alignment can be represented by introducing gap symbols “–” into each sequence such that the resulting sequences \\$S\\_1'\\$ and \\$S\\_2'\\$ have the same length \\$L\\$, and for each position \\$k\\$ in \\$1..L\\$, we have a pairing \\$(S\\_1'\\[k], S\\_2'\\[k])\\$. A valid alignment requires that removing gaps recovers the original sequences, and typically we do not allow positions where both have a gap. The **global alignment score** is the sum \\$\\sum\\_{k=1}^{L} \\sigma(S\\_1'\\[k], S\\_2'\\[k])\\$ for some scoring function \\$\\sigma(a,b)\\$ (for example: \\$\\sigma(a,b)=+1\\$ if \\$a=b\\$ match, \\$\\sigma(a,b)=-\\mu\\$ if \\$a\\neq b\\$ mismatch, \\$\\sigma(a,-)=\\sigma(-,b)=-\\gamma\\$ gap penalties). Global alignment finds the alignment maximizing this sum. Equivalently, one can assign a penalty for mismatches and gaps and *minimize* the total penalty."
   ]
  },
  {
   "cell_type": "markdown",
   "id": "8051f5d7-0b90-4f63-8641-5acd99085026",
   "metadata": {},
   "source": [
    "**Biological motivation & examples:** Global alignment is used when two sequences are expected to be similar over their full length. For example, when comparing the **hemoglobin beta chain gene** in human vs. chimpanzee, a global alignment will align the entire gene sequences to show overall differences. Another example is comparing two bacterial genomes for synteny; global alignment (with appropriate treatment of long gaps) can align long contiguous sequences. Global alignments are crucial in applications like comparing a newly sequenced gene with a reference gene to find all differences, or aligning two protein sequences to see if they are variants of each other (e.g., human APOE gene vs. chimpanzee APOE)."
   ]
  },
  {
   "cell_type": "markdown",
   "id": "e17b50b6-4003-4c58-8bf1-6daae0235979",
   "metadata": {},
   "source": [
    "**Algorithmic solution:** Needleman–Wunsch uses dynamic programming to guarantee an optimal global alignment. We construct a matrix \\$F\\$ of size \\$(n+1)\\times(m+1)\\$ where \\$F(i,j)\\$ is the optimal alignment score for \\$S\\_1\\[1..i]\\$ and \\$S\\_2\\[1..j]\\$. The DP recurrences (for a maximization formulation) are:\n",
    "\n",
    "* Initialization: \\$F(0,0)=0\\$. For the first row/column: \\$F(i,0) = i \\times \\sigma(\\text{gap},\\text{char})\\$ (aligning \\$i\\$ chars of \\$S\\_1\\$ with all gaps) and \\$F(0,j) = j \\times \\sigma(\\text{char},\\text{gap})\\$. These typically accrue gap penalties for leading gaps.\n",
    "* Recurrence for \\$i>0\\$, \\$j>0\\$:\n",
    "  \\$F(i,j) = \\max\\begin{cases}\n",
    "  F(i-1,j-1) + \\sigma(s\\_i, t\\_j) & \\text{(match/mismatch)}\\\\\n",
    "  F(i-1,j) + \\sigma(s\\_i,\\text{gap}) & \\text{(gap in \\$S\\_2\\$)}\\\\\n",
    "  F(i,j-1) + \\sigma(\\text{gap}, t\\_j) & \\text{(gap in \\$S\\_1\\$)}\n",
    "  \\end{cases}\\$\n",
    "\n",
    "The pointer that yielded the max is recorded for traceback. After filling the matrix, \\$F(n,m)\\$ gives the optimal alignment score, and retracing pointers yields the aligned sequences. This algorithm runs in \\$O(nm)\\$ time and space. **Figure 1** illustrates a Needleman–Wunsch DP matrix and an optimal path.\n",
    "\n",
    "&#x20;*Figure 1:* Dynamic programming matrix for a Needleman–Wunsch global alignment of two example DNA sequences. Here a match scores +1, and a mismatch or gap incurs –1. An optimal alignment path (blue arrows) is traced through the matrix, corresponding to the highest alignment score. The algorithm explores all possible alignments implicitly and finds the highest-scoring one, ensuring an optimal global alignment.\n",
    "\n",
    "In practice, global alignment scoring for proteins uses empirically derived *substitution matrices* (like PAM or BLOSUM) for \\$\\sigma(a,b)\\$, which assign higher scores to conservative substitutions (e.g. exchanging two hydrophobic amino acids) and large penalties to unlikely substitutions. Gap costs are often made length-dependent: a common scheme is an **affine gap penalty**, where opening a gap costs a penalty \\$-G\\$ and each extension (continuing the gap by one) costs \\$-E\\$, with \\$E\\<G\\$. This discourages scattering many single gaps and prefers longer contiguous gaps (reflecting biological events like a single insertion/deletion of multiple bases). The Needleman–Wunsch DP can be extended to affine gap costs by keeping track of three matrices (match/mismatch, gap in seq1, gap in seq2), often called the Gotoh algorithm."
   ]
  },
  {
   "cell_type": "code",
   "execution_count": null,
   "id": "5d0930d3-247f-4386-9f19-39a6dffa2db8",
   "metadata": {},
   "outputs": [],
   "source": [
    "# implementation"
   ]
  },
  {
   "cell_type": "markdown",
   "id": "1a413410-d004-4616-a914-a762149ac748",
   "metadata": {},
   "source": [
    "**Nuances and considerations:** A key consideration is that **global alignment will force alignment of the entire length** of both sequences. If one sequence has extra domains or is significantly longer, a global alignment might introduce large gap regions that are not meaningful. In such cases, using local or semi-global alignment (see below) is more appropriate. Choice of scoring parameters heavily influences the result: for instance, if gap penalties are set too low (cheap to open gaps), the algorithm may introduce many gaps to align every tiny similarity, whereas too high penalties might under-align. For DNA, match/mismatch scoring is often simpler (e.g. +1/–1 or using a matrix that gives transitions slightly different weight than transversions). For proteins, using the correct substitution matrix for the evolutionary distance in question (e.g. PAM30 for very similar sequences, BLOSUM62 for moderately distant, etc.) yields better alignments. Another nuance: there may be multiple equally optimal alignments if repeats or ambiguous regions exist; Needleman–Wunsch can be modified to find all equal-best alignments though typically one is returned arbitrarily or by convention (e.g., favoring gaps in one sequence vs the other consistently). Also, global alignment is \\$O(nm)\\$ which can be slow for very long sequences (e.g. entire chromosomes), so in practice heuristic strategies or anchor-based methods (like MUMmer for genome alignment) are used to improve speed."
   ]
  },
  {
   "cell_type": "markdown",
   "id": "a4ade602-b718-4b0a-b174-7b5013d0b593",
   "metadata": {},
   "source": [
    "**Software implementations:** Open-source tools for global alignment include **EMBOSS Needle**, which implements Needleman–Wunsch for DNA or protein with customizable scoring. The **NW-align** tool is a protein global alignment program using Needleman–Wunsch (by Yang Zhang, 2012). General bioinformatics libraries like **Biopython** and **SeqAn** provide global alignment functions. For larger sequences (genomic scale), tools such as **MUMmer** (which uses suffix trees) perform global alignment efficiently by first finding Maximal Unique Matches as anchors. The **parasail** C library provides optimized SIMD implementations of global (and local) DP alignment. While not pure Needleman–Wunsch, the alignment step in genome aligners (like MAUVE for multiple genome alignment) uses similar dynamic programming techniques tuned for large sequences."
   ]
  },
  {
   "cell_type": "markdown",
   "id": "5c575fdc-3b60-4765-999e-9c38ba049a87",
   "metadata": {},
   "source": [
    "**Machine learning references:** While global alignment itself is algorithmic, machine learning has been used to improve aspects of it. One area is **learning scoring functions** for alignment: instead of using fixed substitution matrices, methods have trained models (e.g. using neural networks or optimization techniques) to derive data-driven scoring schemes that better distinguish true homology. Profile Hidden Markov Models (HMMs) can be seen as a probabilistic extension of alignment scoring: an HMM can “learn” a profile from a set of aligned sequences and then align (or globally score) a new sequence by computing the probability (Viterbi alignment) – this is used in tools like **HMMER** for sequence database searches. Recently, differentiable programming approaches have made it possible to include alignment algorithms in end-to-end learning: for instance, a *differentiable Needleman–Wunsch/Smith–Waterman* has been used as a module in neural networks that can learn to optimize alignment scoring in tandem with other objectives. These innovations allow integration of alignment with deep learning, though they are research-level rather than common practice.\n"
   ]
  },
  {
   "cell_type": "markdown",
   "id": "632fdb53-17d7-4992-a3d3-419fb2ae20db",
   "metadata": {},
   "source": [
    "### Local Alignment: Smith–Waterman Algorithm"
   ]
  },
  {
   "cell_type": "markdown",
   "id": "5af164d3-de72-4356-85c7-25733d3d091a",
   "metadata": {},
   "source": [
    "In many cases, two sequences may share a region of similarity embedded in otherwise unrelated sequence. **Local alignment** addresses this by finding the highest-scoring alignment between *substrings* of two sequences. In other words, it finds a pair of segments—one from each sequence—whose alignment is optimal, without requiring alignment over the full length of the sequences. This is crucial in bioinformatics for finding conserved domains or motifs in sequences, or searching a large database for a query sequence. The classic algorithm for local alignment is the **Smith–Waterman algorithm** (1981), which adapts the Needleman–Wunsch DP but allows alignment to start and end at arbitrary positions in the sequences."
   ]
  },
  {
   "cell_type": "markdown",
   "id": "31130c03-1d14-4090-ac8f-224ef24fbffc",
   "metadata": {},
   "source": [
    "**Problem formulation:** The local alignment problem can be stated as: given sequences \\$S\\_1\\$ and \\$S\\_2\\$ and a scoring function \\$\\sigma\\$ (including gap penalties), find substrings \\$S\\_1\\[i..i']\\$ and \\$S\\_2\\[j..j']\\$ that maximize the alignment score \\$\\sum \\sigma(\\cdot,\\cdot)\\$. Unlike global alignment, we do not penalize unaligned portions at the ends; effectively, an alignment can start at any \\$i,j\\$ and end at any \\$i',j'\\$ that yields the best score. Smith–Waterman achieves this by a slight change in the DP: any partial alignment score that drops below zero is reset to zero (meaning it’s better to start a new alignment fresh than to carry on a negative score). The DP recursion becomes:\n",
    "\n",
    "* \\$F(0,j)=0\\$ and \\$F(i,0)=0\\$ for all i,j (initializing first row and column to 0, since aligning from an empty prefix yields 0 score locally — we allow starting anywhere).\n",
    "* For \\$i>0,j>0\\$:\n",
    "  \\$F(i,j) = \\max\\begin{cases}\n",
    "  F(i-1,j-1) + \\sigma(s\\_i, t\\_j) \\\\\n",
    "  F(i-1,j) + \\sigma(s\\_i,\\text{gap}) \\\\\n",
    "  F(i,j-1) + \\sigma(\\text{gap}, t\\_j) \\\\\n",
    "  0\n",
    "  \\end{cases}\\$\n",
    "\n",
    "The critical difference is the inclusion of 0: if all alignments ending at \\$(i,j)\\$ have a negative or zero score, we set \\$F(i,j)=0\\$, indicating no alignment is taken through that cell (i.e. it's better to start anew after this point). With this, the maximum value in the matrix \\$F(i,j)\\$ over all i,j gives the local alignment score, and traceback from that cell (stopping when a cell of 0 is reached) yields the aligned substrings. This finds the single best local alignment. (In practice, there could be multiple local alignments – after finding one, one could continue the search in remaining regions or using alternative tracebacks.)"
   ]
  },
  {
   "cell_type": "markdown",
   "id": "14c9bccc-e873-480f-ab19-1b92c607f38c",
   "metadata": {},
   "source": [
    "**Biological motivation & examples:** Local alignment is used when sequences have *partial* similarity. Common cases include protein domains: e.g., two multi-domain proteins might share only one common domain – local alignment will detect that region. If we take the human **hemoglobin alpha** chain vs. **myoglobin**, a local alignment would span the core globin domain (since they share that), whereas a global alignment might extend beyond and force-align unrelated tail regions. Another classic use is **database searching**: given a new gene sequence, we want to find if any portion of it matches a known sequence in a database (it could be a conserved motif or domain) – local alignment allows finding these segments. For instance, local alignment can align a short query (like a CRISPR guide sequence) to a segment of a huge genome to find where it occurs.\n"
   ]
  },
  {
   "cell_type": "markdown",
   "id": "cf4d6b79-9ff5-4250-a121-6f61a42bec5d",
   "metadata": {},
   "source": [
    "**Algorithmic solution:** Smith–Waterman runs in \\$O(nm)\\$ time like Needleman–Wunsch, and is guaranteed to find the optimal local segment alignment. It is more computationally intensive than heuristic methods used for database search (see BLAST below), but for moderate lengths it’s feasible. To speed it up, SIMD parallelization and GPU implementations exist (e.g. **CUDASW++** uses GPUs to accelerate Smith–Waterman). The algorithm requires space \\$O(nm)\\$ for the DP matrix (though banded or sparse techniques can reduce this if high-scoring alignments are expected to be diagonal-ish and short).\n",
    "\n",
    "Biologically, local alignment is very powerful. For example, consider the human **p53 tumor suppressor protein** and a viral protein that shares only one domain in common with p53; a global alignment would be meaningless (the sequences differ a lot overall), but a local alignment can successfully identify the shared DNA-binding domain. Another example: when searching a genomic DNA sequence for a known motif or gene, local alignment will find the matching region. This is exactly the scenario of database search tools like **BLAST** – they aim to find high-scoring local alignments (hits) of a query within target sequences.\n"
   ]
  },
  {
   "cell_type": "code",
   "execution_count": null,
   "id": "7df5fee6-fa01-49d3-a35e-02f262798e18",
   "metadata": {},
   "outputs": [],
   "source": []
  },
  {
   "cell_type": "markdown",
   "id": "76a3ed60-22fd-4767-8499-a05b49c70925",
   "metadata": {},
   "source": [
    "**Nuances:** Local alignment will only report the highest-scoring region. If sequences share multiple distantly separated regions of similarity (e.g. two proteins with two common domains in different order), a single local alignment won’t catch both simultaneously. One must be careful to detect additional significant alignments (e.g. using iterative search or scanning after removing the first hit). Also, because it focuses on the best local match, the significance of that match should be evaluated – a high score might occur by chance in very long sequences. Tools like BLAST compute e-values to assess if a local alignment score is likely due to random chance. Another nuance is parameter selection: in local alignment, mismatches and gaps are often given negative scores (to enforce stopping the alignment when similarity ceases). If mismatch penalties are too low (or substitution matrix too permissive), local alignment might extend beyond the truly conserved region, whereas if penalties are too high, the found local alignment might be shorter than the biologically relevant span. Generally, for nucleotide sequences, one uses modest gap penalties and perhaps rewards for matches to find significant regions; for proteins, using a scoring matrix like BLOSUM62 and an affine gap penalty is standard for local alignment (as in BLAST’s underlying algorithm)."
   ]
  },
  {
   "cell_type": "markdown",
   "id": "07907ddd-1965-49d7-bc79-7427d5b1d20c",
   "metadata": {},
   "source": [
    "**Software:** The quintessential local alignment tool is **BLAST** (Basic Local Alignment Search Tool) which is optimized for searching databases. BLAST uses a heuristic (find short word matches then extend) to find local alignments quickly, trading a little sensitivity for huge speed gains. Another tool, **FASTA** (and its refined version SSEARCH), implements a heuristic followed by an exact Smith–Waterman, offering a balance of speed and sensitivity. For exact local alignments on smaller datasets, **EMBOSS Water** is an implementation of Smith–Waterman. Libraries like **parasail** also implement Smith–Waterman for local mode. **SSAHA** and **Bowtie** (for DNA) implement fast local alignment for short reads by indexing k-mers. Furthermore, GPU-accelerated implementations (e.g. CUDASW++, and OpenCL/CUDA versions in NVBIO) provide exact local DP alignment at high speed, useful for sequence analysis on modern hardware.\n"
   ]
  },
  {
   "cell_type": "markdown",
   "id": "45205599-dfbc-4292-a2fa-3dbe26f55f8e",
   "metadata": {},
   "source": [
    "**Machine learning references:** Traditional local alignment is purely algorithmic, but modern techniques use machine learning to augment similarity searches. The most notable example is not an alignment algorithm per se, but the **BLAST** heuristic which uses k-mer word matching and extension to approximate local alignments much faster than Smith–Waterman. While BLAST is not ML-based, more recent research has explored using neural network embeddings of sequences to find similar regions without explicit alignment. For example, *embedding-based search* tools convert protein sequences into high-dimensional vectors (using models like ProtBERT or ESM) and then use nearest-neighbor search to find related sequences, effectively identifying local or global similarities via learned features. Additionally, there have been attempts to apply reinforcement learning to optimize alignment parameters or even perform alignment – e.g., a deep reinforcement learning approach that learns to align DNA sequences by maximizing a reward related to alignment score. These ML methods are complementary to classical DP: they can be faster or capture subtle similarities, but DP alignment remains the ground-truth method for exact optimal alignment."
   ]
  },
  {
   "cell_type": "markdown",
   "id": "8e8a27b5-92b2-473f-80e0-660d602f2101",
   "metadata": {},
   "source": [
    "### Semi-global and Other Alignment Variants (Ends-Free Alignment)"
   ]
  },
  {
   "cell_type": "markdown",
   "id": "01388f74-5433-47ed-92b0-05b4d6ba953b",
   "metadata": {},
   "source": [
    "*(Note: Semi-global alignment is a variation bridging global and local alignment. While not explicitly requested, it is briefly mentioned for completeness.)*\n",
    "\n",
    "Sometimes one sequence should be aligned globally while the other only locally, for example aligning a short read or protein fragment to a whole genome or a longer sequence. **Semi-global alignment** (also called *glocal* or ends-free alignment) allows gaps at the ends of one sequence without penalty. In the DP, one might initialize first row or column with 0 (free gaps) for one sequence but not the other. This way, the shorter sequence can align somewhere within the longer sequence without penalizing the unaligned overhangs of the longer sequence. This is used in aligning cDNA to genome (where poly-A tails or untranslated regions need not align) or aligning sequencing reads where we don’t penalize if a read doesn’t span the entire reference segment. Semi-global alignment can be implemented by modifying the initialization and/or termination conditions of the DP matrix (e.g., allow starting without penalty along an edge, and/or take the maximum score in the last row/column as final without penalty for leaving unaligned trailing parts). This variant is implemented in tools like **EMBOSS Needle** with an option to ignore end gaps, and read aligners often use this mode implicitly.\n"
   ]
  },
  {
   "cell_type": "markdown",
   "id": "f57e5d10-c882-40d3-b594-c6273893281c",
   "metadata": {},
   "source": [
    "## Multiple Sequence Alignment (MSA)"
   ]
  },
  {
   "cell_type": "markdown",
   "id": "1872d708-40d2-4f3f-a1bc-3581db5812c2",
   "metadata": {},
   "source": [
    "When more than two sequences need to be compared simultaneously, we perform a **multiple sequence alignment**. An MSA arranges three or more sequences into a matrix (with possible gap insertions) so that each column represents putatively homologous positions across all sequences. MSAs are fundamental in identifying conserved sequence motifs and regions, predicting secondary/tertiary structure (via correlated mutations), and inferring evolutionary relationships (they are often the input for phylogenetic tree construction). For example, aligning the protein sequences of **hemoglobin** from many different species will highlight which amino acids are invariant (likely crucial for function) and which positions tolerate substitutions. MSAs are used in protein family analysis, homology modeling, and as input to sophisticated algorithms like consensus motif finding and coevolution analysis."
   ]
  },
  {
   "cell_type": "markdown",
   "id": "ce4fe603-5eef-4e91-9061-6ae445e26e34",
   "metadata": {},
   "source": [
    "**Problem formulation:** Formally, given \\$m\\$ sequences \\$S\\_1, S\\_2, \\dots, S\\_m\\$ (of lengths \\$n\\_1, n\\_2, \\dots, n\\_m\\$), a multiple alignment can be defined as adding gap symbols “–” to each sequence to produce \\$m\\$ new sequences \\$S'\\_1, \\dots, S'\\_m\\$ of equal length \\$L\\$, such that for all \\$k\\$ from 1 to \\$L\\$, the \\$k\\$th column \\$(S'\\_1\\[k], S'*2\\[k], \\dots, S'*m\\[k])\\$ has at least one non-gap character (not an *entire* column of gaps). This ensures the alignment spans all sequences with no column being completely empty. An objective function is needed to score an alignment; the most common is the **sum-of-pairs (SP) score**, which is the sum of pairwise alignment scores over all pairs of sequences. That is, given a scoring function \\$\\sigma\\$ and an alignment \\$A\\$, \\$Score*{SP}(A) = \\sum*{1\\le p < q \\le m} \\text{Score}(S'\\_p, S'\\_q)\\$, where Score\\$(S'\\_p,S'\\_q)\\$ is the pairwise alignment score for those two in the induced alignment. The goal is to maximize the SP score (or equivalently minimize a cost). In principle, a dynamic programming over an \\$m\\$-dimensional matrix could find an optimal alignment under SP score. However, the computation grows exponentially with \\$m\\$ (exact algorithm is \\$O(n^m)\\$ for \\$m\\$ sequences), making it **NP-hard** to find the true optimum for more than a few sequences. Therefore, practical methods use heuristics and approximations. Alternative scoring methods include *profile scores* (aligning to a profile representation with position-specific weights) or *information content* measures, but SP is most widely used for algorithm design.\n"
   ]
  },
  {
   "cell_type": "markdown",
   "id": "d2149fc5-e167-47b6-9199-ee42b1bfd854",
   "metadata": {},
   "source": [
    "**Real-world examples:**\n",
    "Multiple sequence alignments are used in virtually every comparative genomics or protein family analysis project. For instance, in the PFam database of protein families, each family is represented by a curated MSA, which then is used to generate HMM profiles. In evolutionary biology, an MSA of a gene across dozens of species can identify which nucleotides are invariant (possible functional importance) and which vary (neutral or adaptively evolving). As a concrete example, during the influenza virus surveillance, alignments of hemagglutinin gene sequences from strains around the world are created to identify conserved regions (for vaccines) and track mutations. In structural biology, if a protein structure is known, aligning sequences of that protein from many organisms can help map which residues are crucial for maintaining the structure (they’ll be conserved).\n",
    "\n",
    "The figure below shows a section of a multiple sequence alignment for the **CDK4 protein** from five different species, illustrating conserved regions and mutations:\n",
    "\n",
    "&#x20;*Figure 2:* Example of a multiple sequence alignment of the **CDK4 protein** from five species (sheep, cow, human, mouse, frog), generated with ClustalW. Each row is a sequence (gaps “–” inserted to maximize alignment). Identical or similar amino acids in a column are color-coded, revealing conserved regions. Arrows indicate positions of point mutations (differences) among the sequences. Such alignments help identify functionally important residues that are conserved across species.\n"
   ]
  },
  {
   "cell_type": "markdown",
   "id": "848e0589-c6a0-4baf-8f92-441ec76c171a",
   "metadata": {},
   "source": [
    "**Classical algorithmic solutions:**\n",
    "Given the NP-hardness of optimal MSA, a variety of heuristic strategies are employed:\n",
    "\n",
    "* **Progressive alignment:** This is the most common approach (used by **Clustal**, **T-Coffee**, **Muscle**, **MAFFT**, etc.). The idea is to first compute all pairwise distances or scores between sequences, build a guide tree (roughly approximating evolutionary relationships, often via a neighbor-joining or UPGMA on those distances), and then iteratively align sequences following the tree. For example, Clustal aligns the closest pair of sequences first, then aligns either another sequence or an existing alignment to produce a larger alignment, and so on. Each alignment step is done via pairwise alignment (but if aligning an existing alignment to a sequence or to another alignment, profile alignment is used where a gap penalty scheme accounts for previously inserted gaps). This greedy approach is efficient (approximately \\$O(N \\log N \\times L^2)\\$ where \\$N\\$ is number of sequences and \\$L\\$ average length) and usually yields a reasonable alignment, though not guaranteed optimal. The downside is **once a gap is introduced early on, it remains for all subsequent alignments** – mistakes made early can propagate (known as the “once a gap, always a gap” issue). Modern progressive aligners try to mitigate this by later refinement steps.\n",
    "\n",
    "* **Iterative refinement:** Methods like **Muscle** and **MAFFT (iterative mode)** start with a progressive alignment, then iteratively refine it. For instance, Muscle builds an initial MSA quickly, then refines by constructing a tree from that MSA, realigning subgroups, and iterating to improve the score. Iterative approaches attempt to escape the trap of a suboptimal initial alignment by realigning sequences or clusters multiple times. This often improves alignment quality significantly with moderate extra computational cost.\n",
    "\n",
    "* **Consistency-based algorithms:** **T-Coffee** introduced the idea of a library of pairwise alignment fragments to guide the MSA. T-Coffee computes not just direct pairwise alignments but also uses information from alignments of intermediate sequences (so-called consistency heuristic). It then builds the MSA such that it is as consistent as possible with this library of pairwise alignments. This tends to produce higher accuracy alignments especially when sequences are divergent, at the cost of speed. Newer consistency-based tools (e.g. **ProbCons**, **MAFFT with–parttree**) use probabilistic consistency (estimating posterior probabilities of alignment) to weigh alignment decisions.\n",
    "\n",
    "* **Exact algorithms for small cases:** For very small \\$m\\$ (e.g. 3 sequences), one can extend dynamic programming to 3 dimensions (Needleman–Wunsch in a cube) to find an optimal triple alignment. This is \\$O(n\\_1 n\\_2 n\\_3)\\$ time, feasible for short sequences. There are also A\\* search algorithms and the **Carrillo-Lipman** approach that use pairwise bounds to reduce the search space for optimal MSA, but these are rarely used beyond 5–6 sequences due to complexity. These exact methods are mostly of theoretical interest or used to validate heuristics on small benchmarks.\n",
    "\n",
    "* **Profile HMM alignment:** Another classical approach is to use profile hidden Markov models. One can construct a profile HMM from an initial alignment, then align each additional sequence to the profile using the Viterbi algorithm (this is essentially how **HMMER** aligns sequences to a seed alignment). Tools like **Clustal Omega** use HMM profiles of sub-alignments in their later stages. Profile alignment can also be iterative: build HMM, align sequences to it, update HMM. While not guaranteeing an optimal MSA globally, profile-HMM methods effectively use a machine learning (statistical) model to represent the MSA and can be very sensitive in detecting homologous positions."
   ]
  },
  {
   "cell_type": "code",
   "execution_count": null,
   "id": "2951b8a8-9267-425e-88dd-2315c89186bf",
   "metadata": {},
   "outputs": [],
   "source": []
  },
  {
   "cell_type": "markdown",
   "id": "af0fae3b-3224-4a52-b2e0-927d94bfe782",
   "metadata": {},
   "source": [
    "**Nuances and considerations:**\n",
    "MSA quality can be affected by sequence diversity and parameters:\n",
    "\n",
    "* If sequences are very divergent, aligning them is challenging – errors are common because there may be insufficient signal to distinguish aligned vs misaligned positions. Including an intermediate (more closely related) sequence can help “anchor” the alignment (this is a property used in consistency methods).\n",
    "\n",
    "* The order of alignment in progressive methods can influence the result; that’s why a guide tree is used, but a greedy or arbitrary guide tree might give suboptimal alignment. This is mitigated by refined methods (e.g. Muscle’s iterations).\n",
    "\n",
    "* Gap penalties might be adjusted position-specifically: many MSAs use position-specific or sequence-specific gap penalties, for example penalizing gaps in a hydrophobic core region more than on a surface loop, if such information is known or can be inferred. Some programs (ClustalW) reduce gap penalties in regions that already have gaps to encourage gap clustering (this mimics affine gap behavior in a heuristic way).\n",
    "\n",
    "* Since the true alignment is unknown, evaluation of MSAs is done with benchmarks like BAliBASE, and it’s known that different algorithms excel on different problems. For example, T-Coffee might produce a more accurate alignment for remote homologs, but MAFFT or Muscle might be much faster for large numbers (thousands) of sequences with only slight loss in accuracy.\n",
    "\n",
    "* MSAs often contain columns that are partially aligned and might require manual adjustment if critical (bioinformaticians sometimes hand-tweak an MSA, especially around indels, if they have secondary structure or other knowledge).\n",
    "\n",
    "* The **computational complexity**: aligning 100 sequences of length 300 can be done in seconds with modern heuristics (ClustalΩ, MAFFT-fast) but aligning 1000 sequences of length 1000 is more intensive — fast methods like Clustal Omega can handle it by using mBed hashing and HMM profile alignments. Extremely large alignments (50k sequences, as in some viral databases) require special strategies (MAFFT has a PartTree and FFT-based method for very large alignments).\n"
   ]
  },
  {
   "cell_type": "markdown",
   "id": "6ff6eaf6-0c86-44b6-9f76-e57d0b3f3bf7",
   "metadata": {},
   "source": [
    "**Machine learning references:** Traditionally, MSA construction is heuristic, but ML has roles in **scoring and optimizing alignments**. For instance, *weights* can be learned for sequences to reduce bias of over-represented groups (so the objective isn’t a plain sum-of-pairs but weighted). Also, as mentioned, profile HMMs (a form of unsupervised learning) are used to represent MSAs and align new sequences. In recent years, differentiable alignment methods have been proposed to allow neural networks to refine MSAs. One study introduced a *Learned Alignment Module* that creates MSAs by a differentiable Smith-Waterman algorithm and can be optimized within a larger model. This was used to jointly optimize alignments for better protein structure prediction in conjunction with AlphaFold, showing that slight shifts in an alignment can affect downstream predictions. Additionally, deep learning models like AlphaFold2 and RoseTTAFold implicitly use MSAs as input, and there’s active research on whether neural networks can *generate* alignments or assess alignment quality. However, multiple sequence alignment itself has not been replaced by ML models; rather ML helps in specific areas (e.g. predicting which sequences to include for best alignment, or guiding refinement). Genetic algorithms have also been tried to optimize MSAs (treating alignment as an optimization problem where crossover/mutation moves gaps around), sometimes yielding improvements in difficult cases."
   ]
  },
  {
   "cell_type": "markdown",
   "id": "01030044-8acf-42a3-b89b-b1650a68f021",
   "metadata": {},
   "source": [
    "**Software:**\n",
    "There is a rich ecosystem of MSA software. Some of the widely used open-source or academic programs include:\n",
    "\n",
    "* **Clustal Omega** – Latest iteration of Clustal, performs progressive alignment via HHM profile alignment; suitable for large alignments, very fast and scalable. Clustal has been cited among the top 100 papers of all time, underscoring its impact.\n",
    "\n",
    "* **MUSCLE** – A high-accuracy aligner that builds an initial alignment quickly and then improves it iteratively; often achieves better SP scores than Clustal and is fairly fast.\n",
    "\n",
    "* **MAFFT** – Offers multiple modes (FFT-accelerated, iterative refinement, etc.), and is known for its speed on large numbers of sequences. It has options for adding new sequences to an existing alignment and even aligning based on structural information.\n",
    "\n",
    "* **T-Coffee** – Emphasizes accuracy by using a consistency approach; slower than others, but useful for smaller, difficult alignments or when you want to integrate information (it can incorporate structural alignments or other aligners’ results into its library).\n",
    "\n",
    "* **ProbCons** – An alignment tool that uses a probabilistic consistency scoring (pair-HMM posterior probabilities); it was among the top performers in accuracy, though slower.\n",
    "\n",
    "* **Kalign** – An extremely fast aligner using rapid heuristics; good for quick alignments, though not as accurate on divergent sets.\n",
    "\n",
    "* **Multiple alignment with structural info:** Tools like **MUSTANG** align protein sequences by also considering known 3D structures (if available) to enforce structural consistency, aligning residues that occupy analogous positions in 3D.\n",
    "\n",
    "Most of these tools are available as command-line programs or through web servers. Additionally, the **MAUVE** tool is specialized for multiple genome alignment (handling large-scale rearrangements). **MEGA** software allows building MSAs manually or using Muscle/Clustal, integrated with phylogenetic analysis (useful for teaching and small datasets). The **COBALT** tool (NCBI) does multiple alignment with domain constraints. Each software might implement specific nuances: e.g. handling of non-standard characters, specific optimizations for DNA vs protein, etc. Many are also available via Bioconductor or Biopython for programmatic use."
   ]
  },
  {
   "cell_type": "markdown",
   "id": "71236a51-1394-48dd-af8f-a13841e3e006",
   "metadata": {},
   "source": [
    "## From gpt (deep dive into theory)"
   ]
  },
  {
   "cell_type": "markdown",
   "id": "fb415ff6-5049-4c41-a6b1-15dd09dbb37f",
   "metadata": {},
   "source": [
    "## Phylogenetic Tree Construction\n",
    "\n",
    "Multiple sequence alignment is often a precursor to building a **phylogenetic tree**, which is a branching diagram (tree) that represents the evolutionary relationships among a set of sequences or organisms. The **biological motivation** for phylogenetic tree inference is to reconstruct the “family tree” of genes or species: given sequences from current-day species, we infer how they diverged from common ancestors. For example, using an alignment of mitochondrial DNA from several mammals, one can construct a phylogenetic tree that suggests how those mammals are related and when their lineages split. Another example is tracing the evolution of a virus like SARS-CoV-2: by sequencing samples from different patients and aligning the genomes, scientists built phylogenetic trees to understand how the virus strains are related and how it spread geographically. Phylogenetics is fundamental for taxonomy, studying molecular evolution, and even in epidemiology for tracking pathogens.\n",
    "\n",
    "**Problem formulation:** There are two broad formulations for phylogenetic analysis: **distance-based** and **character-based**.\n",
    "\n",
    "* *Distance-based:* First compute a distance matrix \\$D\\[i,j]\\$ between every pair of sequences (often using sequence identity or an evolutionary distance estimate derived from pairwise alignment). Then find a tree whose pairwise distances (path lengths between leaves) best match the matrix \\$D\\$. The tree has sequences at the leaves and branch lengths that aim to reproduce those distances.\n",
    "\n",
    "* *Character-based:* Consider each column of the multiple alignment as an evolutionary character (e.g. a nucleotide site that can mutate). The problem is to find a tree (topology and sometimes branch lengths) that best explains the distribution of characters under some criterion. Criteria include **maximum parsimony** (find the tree that requires the fewest total mutations across all sites) and **maximum likelihood** (find the tree that maximizes the likelihood of observing the data given a model of sequence evolution).\n",
    "\n",
    "A phylogenetic tree \\$T\\$ formally is a connected acyclic graph with leaves corresponding to the input sequences. In a rooted tree, there is an ancestral root (common ancestor) and the tree shows direction of evolution; in an unrooted tree, it just shows relative clustering. The goal is to find the tree topology (and sometimes branch lengths) that optimizes a chosen objective (minimum total substitutions for parsimony, maximum likelihood for ML, or minimal distance discrepancy for distance methods). The space of possible tree topologies grows super-exponentially with number of sequences (number of unlabeled binary trees for \\$n\\$ taxa is \\$(2n-5)!!\\$, extremely large), so exhaustive search is infeasible for \\$n>10\\$ or so. Thus heuristic or approximate algorithms are used.\n",
    "\n",
    "**Classical algorithmic solutions:**\n",
    "\n",
    "* **Distance-based methods:** These are usually fast and provide a quick tree estimate. **UPGMA** (Unweighted Pair Group Method with Arithmetic Mean) is a simple hierarchical clustering that assumes a molecular clock (ultrametric distances) – it repeatedly clusters the closest two taxa, and assumes equal evolutionary rates. It produces a rooted tree. **Neighbor-Joining (NJ)** is a widely used method that does not assume equal rates; it works by finding pair(s) of taxa that minimize a certain total branch length at each step (it’s a greedy algorithm that produces an unrooted tree). NJ is fast (\\$O(n^3)\\$ which is fine for even hundreds of sequences) and often gives a reasonable tree to start with. Other distance methods include **Fitch-Margoliash** and **Minimum Evolution**, which attempt to directly minimize some function of branch lengths vs distances. Distance methods are straightforward but they depend on the quality of the distance estimates – for deep divergences, simple percent identity is not accurate, so often a distance correction like Jukes-Cantor or Kimura 2-parameter is applied to estimate the true number of substitutions. If distances are saturated (multiple substitutions at the same site), these methods can mislead.\n",
    "\n",
    "* **Maximum Parsimony (MP):** This is a character-based discrete optimization. For a given tree topology, one can compute the minimum number of substitutions required to explain the sequences (each column of the alignment contributes to this count). Computing this for a fixed tree is done by Fitch’s algorithm in linear time per site. The hard part is searching the space of tree topologies to find the minimum total substitutions. Heuristics like stepwise addition (adding taxa one by one in best place) followed by branch-swapping (e.g. nearest-neighbor interchange, subtree pruning and regrafting) are used to hill-climb to a best tree. MP doesn’t use an explicit evolutionary model, just the parsimony criterion (which can be thought of as assuming substitutions are rare). It can be fooled by long-branch attraction (where two long branches with many independent changes appear artificially close because both have lots of changes). MP is NP-hard in general, so complete search is limited to small \\$n\\$. **PAUP**\\* and **TNT** are software that implement parsimony search.\n",
    "\n",
    "* **Maximum Likelihood (ML):** This method is model-based. One assumes a model of evolution (e.g. for DNA: probabilities for A->G, etc., including rate heterogeneity among sites possibly), and then for a given tree and set of branch lengths, one can compute the likelihood of the observed alignment. The likelihood is \\$L = \\prod\\_{\\text{sites}} P(\\text{data at that site} | \\text{tree, branch lengths, model})\\$. Computing this efficiently uses Felsenstein’s pruning algorithm (dynamic programming up the tree). Searching for the best tree involves exploring topology changes and performing a numerical optimization of branch lengths for each topology. This is computationally heavy, so heuristics (similar to parsimony: stepwise addition + local rearrangements, or more sophisticated like genetic algorithms or ant colony optimization) are used. ML is considered more accurate than distance or parsimony when the model assumptions hold, especially for larger evolutionary distances, at the cost of more computation.\n",
    "\n",
    "* **Bayesian Inference:** An extension of ML where one puts a prior on trees and uses MCMC (Markov Chain Monte Carlo) to sample the posterior distribution of trees given the data. Tools like MrBayes do this. This provides a set of probable trees and posterior probabilities for clades, but is even more computationally demanding than ML (though MCMC can sometimes navigate complex spaces better than heuristic ML search).\n",
    "\n",
    "* **Consensus trees and bootstrapping:** Often one might generate multiple trees (via bootstrapping the data – resampling alignment columns) to assess reliability. The **bootstrap** method gives a support value for each clade (percentage of bootstrap replicates that contained that clade). This is commonly reported to indicate confidence in parts of the tree.\n",
    "\n",
    "It’s common to use a fast distance or ML method to get an initial tree, then use that as a starting point for a more thorough ML or Bayesian analysis.\n",
    "\n",
    "**Machine learning references:** Machine learning has started to play a role in phylogenetics in recent years, mainly to **guide tree search** or to analyze large data. A 2021 proof-of-concept used ML to predict which tree topologies are likely to increase likelihood, to reduce the search space that ML algorithms need to explore. Their analyses suggest that a model can be trained on characteristics of partial likelihood calculations to recommend promising rearrangements, speeding up the search. Another approach uses neural networks to directly infer quartet relationships (relationships among sets of four taxa) which can then be combined to build the full tree. There are also alignment-free approaches where features like k-mer frequencies are used with ML to cluster sequences phylogenetically. While these approaches are not yet as established as classical methods, they hold promise for scaling to very large datasets (thousands of genomes) where traditional methods struggle. Additionally, techniques in computational phylogenetics sometimes use ML for specific tasks, like choosing the best-fit substitution model for the data (e.g. ModelFinder in IQ-TREE uses criteria but could incorporate ML), or predicting rooting of trees. In summary, ML is being harnessed to **accelerate** and sometimes improve phylogenetic inference, rather than replace the fundamental evolutionary models.\n",
    "\n",
    "**Nuances and considerations:**\n",
    "Phylogenetic analysis comes with many considerations:\n",
    "\n",
    "* **Multiple sequence alignment quality:** “Garbage in, garbage out.” If the MSA has errors (misaligned columns), the tree can be wrong. Regions of an alignment that are uncertain (e.g. full of gaps) are often removed (filtered) before tree inference to avoid misleading signals.\n",
    "\n",
    "* **Homoplasy and model violations:** Homoplasy is when different lineages have the same character state not by common ancestry but by independent changes (convergent evolution). This can mislead parsimony (e.g. two unrelated lineages both evolve a similar nucleotide by chance could appear to be related). Likelihood models try to account for multiple changes, but if the model is too simple (e.g. not accounting for site-specific variability or codon structure), it may be inadequate. Choosing a proper model (e.g. GTR+Gamma for DNA, or LG for proteins with rate heterogeneity) is important.\n",
    "\n",
    "* **Long branch attraction:** If two sequences are very divergent (long branches), some methods (especially parsimony, but even others if model is not handling rate variation well) might erroneously group them together. This is a known artifact; using likelihood with appropriate models or adding more taxa to break the long branch can alleviate it.\n",
    "\n",
    "* **Computational cost:** For, say, 50 sequences of length 1000, ML might be fine; for 1000 sequences, distance or faster ML approximations (e.g. FastTree) might be needed. Bayesian runs can take days for moderate datasets. There’s also an NP-hardness to searching tree space, so heuristics might get stuck in local optima – one often runs multiple independent searches and picks the best result.\n",
    "\n",
    "* **Horizontal gene transfer (HGT):** Especially in bacteria, a single gene’s phylogenetic tree might not reflect the species tree because genes transfer between lineages. This complicates the concept of a single tree of life. In such cases, network-like phylogenies or analyzing many genes (concatenated alignments or species tree methods) are used.\n",
    "\n",
    "* **Molecular clock and dating:** If one has sequence data with differing ages (e.g. ancient DNA or virus samples with collection dates), one can put time calibration on the tree (a “timetree”). This involves additional models of rate variation over time (relaxed clock models) and usually a Bayesian inference (as in BEAST software). It’s an advanced topic beyond basic tree building, but worth noting that inferring **when** divergences happened is often as important as the topology itself.\n",
    "\n",
    "**Real-world examples:**\n",
    "One iconic example is the **Tree of Life** for all organisms. By comparing ribosomal RNA sequences from bacteria, archaea, and eukaryotes, Carl Woese and colleagues constructed a phylogenetic tree that revolutionized biology by discovering the domain Archaea, separate from bacteria. This tree, shown in Figure 3, clusters life into three major domains. Another example is tracking **viral evolution**: researchers built phylogenetic trees of HIV sequences to trace its origins in the human population, and trees of influenza help identify how the virus is changing each year. In conservation biology, phylogenies of endangered species (using mitochondrial DNA) can reveal distinct lineages that should be preserved. In anthropology, phylogenetic trees of human populations are made using genetic markers to study migration and ancestry.\n",
    "\n",
    "&#x20;*Figure 3:* A simplified **phylogenetic tree of life** based on ribosomal RNA sequences (Carl Woese data, 1990). The tree shows the divergence of the three domains of life: **Bacteria** (blue), **Archaea** (red), and **Eukarya** (brown). Each branch represents evolutionary lineages; branch lengths in such trees often correspond to genetic distance or time. Phylogenetic trees like this summarize vast amounts of sequence comparison to elucidate evolutionary relationships.\n",
    "\n",
    "**Software:**\n",
    "There are many software tools for phylogenetic tree inference, each with different strengths:\n",
    "\n",
    "* **PHYLIP** – A classic (older) suite of programs by Joseph Felsenstein that includes implementations of UPGMA, neighbor-joining, parsimony (DNAPARS, PROTPARS), and likelihood (DNAML, PROTML). It’s command-line and modular, widely used historically in teaching and basic analyses.\n",
    "\n",
    "* **MEGA** – User-friendly software that allows alignment and phylogeny inference (neighbor-joining, parsimony, some likelihood methods) through a GUI. Good for smaller datasets and for teaching, and it now has a command-line version (MEGA-CC).\n",
    "\n",
    "* **PAUP**\\* – Originally for parsimony (Phylogenetic Analysis Using Parsimony), it also does distance and likelihood. It was very popular among evolutionary biologists (especially in the 90s for parsimony analyses).\n",
    "\n",
    "* **RAxML** – Stands for Randomized Axelerated ML, a program for maximum likelihood tree inference that is highly optimized for speed and can handle large datasets (hundreds or thousands of sequences) with bootstrapping. RAxML uses rapid heuristics and has been a workhorse for many phylogenomic studies.\n",
    "\n",
    "* **IQ-TREE** – A newer ML-based program that is very fast and has advanced features (like automatic model selection, support for partitioned data, ultrafast bootstrap). It often finds slightly better trees than RAxML due to different search strategies, and is actively maintained.\n",
    "\n",
    "* **FastTree** – An approximately maximum likelihood method that is extremely fast, able to handle tens of thousands of sequences by using a heuristic that first builds a NJ tree then refines it with ML steps. It’s slightly less accurate than full ML but extremely useful for large trees (e.g. initial trees for very large alignments).\n",
    "\n",
    "* **MrBayes** – A Bayesian MCMC program that allows complex models (e.g. mixture models, clock models) and outputs a posterior distribution of trees. Often used to get posterior probabilities for clades.\n",
    "\n",
    "* **BEAST** – Bayesian Evolutionary Analysis Sampling Trees, specialized for time-measured phylogenies (uses tip dates to calibrate), used heavily in phylodynamics (e.g. viral outbreaks to infer time of origin and spread). It does full Bayesian inference with a molecular clock.\n",
    "\n",
    "* **NeighborJoin (NJ)** – While NJ is an algorithm rather than a program, implementations are in many packages (PHYLIP’s neighbor, MEGA, etc.). **NJplot** is a viewer for NJ trees.\n",
    "\n",
    "* **Garli** and **PhyML** – Other ML programs (PhyML was an earlier ML tool, Garli uses genetic algorithm for ML tree search).\n",
    "\n",
    "Additionally, there are specialized programs for consensus trees (Consense in PHYLIP), for comparative analysis on trees (e.g. PAML for ancestral sequence inference under models). Visualization tools (FigTree, iTOL) help in examining the trees produced. Many of the above programs are available via web servers (e.g. the Cipres Gateway allows running RAxML, MrBayes, etc. on servers). The choice of tool depends on data size and needed methodology (distance vs ML vs Bayesian).\n",
    "\n",
    "## Structural Alignment of Proteins\n",
    "\n",
    "So far we discussed sequence alignment based on primary structure (the sequence of letters). In bioinformatics, another important comparison is **structural alignment**, which involves aligning proteins (or nucleic acids) based on their three-dimensional structures rather than their sequences. The biological motivation is that structure is more conserved than sequence over long evolutionary times: two proteins might have very low sequence identity yet still fold into similar 3D shapes (indicating a distant common ancestor or convergent evolution to a stable fold). By aligning structures, we can detect remote homologies and infer function when sequence comparison fails. For instance, the enzyme **superoxide dismutase** in bacteria and in humans share only \\~20% sequence identity, but a structural alignment reveals the same beta-barrel fold and active site geometry, confirming their evolutionary relationship. Structural alignment can also be used to quantify similarity between protein structures, classify proteins into fold families, and assist in protein engineering by identifying structurally equivalent residues.\n",
    "\n",
    "**Problem formulation:** In a pairwise structural alignment, we have two molecules (usually proteins) with coordinates known for each atom (typically obtained from X-ray crystallography or NMR). We want to establish a mapping between the residues of protein A and residues of protein B such that the 3D positions of matched residues superpose as closely as possible. Unlike sequence alignment, here each residue is characterized by a position in 3D space (and maybe a type). A common approach is to find a pairing of residues (allowing gaps, meaning some residues in one structure have no equivalent in the other) that maximizes the number of correspondences under a distance threshold or maximizes a similarity score. Equivalently, one can minimize the root-mean-square deviation (RMSD) between the coordinates of aligned residues. Formally, we seek an alignment (a set of residue pairs \\$(i, j)\\$ meaning residue \\$i\\$ of protein A aligns to residue \\$j\\$ of protein B) and a rigid body transformation (rotation+translation) that brings the matched pairs as close as possible in 3D. The score might be defined as number of atom pairs within a cutoff distance after superposition, or something like \\$-\\text{RMSD}\\$. This is a complex problem because one must consider both the correspondence (which residues align to which) and the 3D superposition. It’s a bit like the sequence alignment problem with an extra geometric optimization in the loop. In fact, if one knew the correspondence, computing the optimal superposition (least-squares fit) is straightforward (the Kabsch algorithm). But finding the correspondence is combinatorial (one could reduce it to an extension of sequence alignment where “scores” are derived from distances between residues).\n",
    "\n",
    "**Algorithmic solutions:**\n",
    "Several algorithms have been developed for protein structural alignment:\n",
    "\n",
    "* **DALI (Distance matrix ALIgnment):** DALI represents each structure by its matrix of inter-residue distances and finds common submatrices between two distance matrices using a Monte Carlo simulation algorithm. Essentially, it finds similar distance patterns which correspond to similar 3D arrangements of residues. DALI outputs aligned residues and an alignment score (the Dali Z-score). It’s effective for detecting even remote structural similarity.\n",
    "\n",
    "* **Combinatorial Extension (CE):** CE (by Shindyalov and Bourne) works by finding local structurally similar fragments (pairs of short segments) and then performing a path extension – somewhat analogous to extending matches in sequence alignment. It creates an alignment by piecing together these fragment alignments if they are consistent (no large gaps). CE is fast and was widely used in the 2000s (implemented in the Protein Data Bank’s tools).\n",
    "\n",
    "* **SSAP (Sequential Structure Alignment Program):** An older algorithm that uses double dynamic programming – it aligns distance vectors of each residue (essentially looking at the environment of each residue) in a two-step DP process. It was used in the CATH database for structural family assignments.\n",
    "\n",
    "* **TM-align / TM-score optimization:** TM-align is a newer algorithm (by Y. Zhang) that tries to maximize the TM-score, a scale-independent measure of structural similarity. It starts with heuristic fragment pairings (using secondary structure and threading-like techniques) and then iteratively refines the alignment and superposition to maximize TM-score. TM-align is very fast and often more accurate in finding the best superposition for proteins that have the same fold, even if the alignable region is small.\n",
    "\n",
    "* **Structural superposition as a coordinate matching problem:** Some approaches treat it as an assignment problem – e.g., use techniques from computer vision (point cloud alignment). For example, one can use the **Hungarian algorithm** to assign residues of protein A to residues of protein B optimizing a score that combines sequence similarity and spatial proximity. There are also **graph matching** approaches where each protein’s structure is a graph (residues as nodes, contacts as edges) and one finds the largest common subgraph (this can identify a common core of the structures).\n",
    "\n",
    "* **Multiple structure alignment:** Tools like **MUSTANG** align multiple protein structures at once by generalizing pairwise alignment through iteration. They often build a distance matrix of all vs all pairwise and then do progressive alignment of structures, similar to sequence MSA but with geometric scoring.\n",
    "\n",
    "The complexity: A naive approach to structural alignment (trying all pairings) is extremely expensive, but the above heuristics (fragment-based, distance matrix comparisons, etc.) make it tractable. Many algorithms converge in a few seconds to minutes for typical protein sizes.\n",
    "\n",
    "**Biological motivation & examples:** Structural alignment is especially useful to detect distant evolutionary relationships. A famous example: the *hemoglobin* and *myoglobin* proteins (one is a tetramer carrying oxygen in blood, the other a monomer storing oxygen in muscle) have very low sequence similarity, but a structural alignment shows their 3D structures are remarkably similar (the globin fold), suggesting they evolved from a common ancestral protein. Another scenario is drug design: if you have the structure of a protein and you find it aligns well with the structure of another protein whose inhibitors are known, you can infer that similar inhibitors might bind to the first protein. Also, structural alignment can identify active site geometries that are conserved even when overall fold is different (convergent evolution cases, like the catalytic triad in serine proteases appearing in different folds).\n",
    "\n",
    "**Machine learning references:** ML in structural alignment is not as pervasive, but a recent trend is using protein structure embeddings. For instance, models like **TM-Vec** use deep learning to embed protein structures into a vector space such that similar folds have closer vectors. This can allow rapid retrieval of proteins with similar structures (alignment is then confirmed by a tool like TM-align). Additionally, given the surge in predicted structures (AlphaFold2 models for many proteins), there’s interest in quickly classifying those; ML can help cluster or classify structures by fold. Some ML methods treat the 3D alignment as a differentiable problem of aligning point clouds. However, traditional algorithms like TM-align are so effective that ML has not replaced them, rather complements by pre-screening or adding scoring (e.g., learning a scoring function that better correlates with functional similarity than TM-score).\n",
    "\n",
    "**Nuances:**\n",
    "Structural alignment must consider that sometimes only part of the protein is similar (just like local sequence alignment). Many tools allow or inherently find *the largest common substructure* (which is a local structural alignment). It’s possible for two proteins to have two or more separate common substructures – most algorithms focus on one largest contiguous alignment. Also, proteins can undergo conformational changes, so the alignment might not be perfect if one domain is in different orientation; some advanced methods allow flexible alignment (e.g. FatCat can introduce hinge bending during alignment). Unlike sequence alignment, evaluating a structural alignment has multiple criteria: RMSD of superposition, number of aligned residues, gaps, etc. A balance is needed – e.g. one can get a low RMSD by aligning very few residues (just the active site), but that ignores overall fold. Metrics like TM-score or GDT (Global Distance Test) are used which consider the fraction of residues under certain distance thresholds.\n",
    "\n",
    "Another nuance: structural alignment can imply a corresponding sequence alignment. If two proteins are aligned structurally, one can read off which residues align and thereby get sequence alignment – interestingly, this often reveals sequence patterns that were not detectable by sequence alignment alone. These sequence alignments from structure are used to build better sequence profiles (e.g., the HOMSTRAD database provides structure-based MSAs that seed profile HMMs for sequence searches). Caution is needed in interpretation: just because two proteins align well in 3D doesn’t always mean common ancestry – there are cases of *convergent structures*. For example, some enzymes from different lineages have evolved similar folds because that fold is advantageous for the chemistry (though they may still be historically unrelated). Usually, additional evidence (like specific sequence motifs or the topology of connections) is considered to distinguish convergence from divergence.\n",
    "\n",
    "**Real-world examples:**\n",
    "\n",
    "* The **CATH** and **SCOP** databases classify proteins by their structures. They rely on structural alignment to group proteins into fold families. Each new protein structure deposited in PDB is often run through alignment against known structures to see if it’s a new fold or similar to an existing one.\n",
    "* In drug discovery, if a novel protein structure is solved, researchers will structurally align it to proteins of known function to hypothesize what its function might be (for instance, aligning an enzyme structure to known enzyme structures can suggest if it has a similar active site).\n",
    "* Structural alignment was key in recognizing the evolutionary relationships of **protein kinase domains**, **immunoglobulin domains**, etc., that have diversified sequences but conserved core structures.\n",
    "* Alignment of RNA structures (like tRNAs or ribozymes) is also done (with specialized tools) to compare RNA 3D conformations.\n",
    "\n",
    "**Software:**\n",
    "Some popular tools for structural alignment:\n",
    "\n",
    "* **DALI** – Available as a web server; input two PDB structures, it returns aligned residues and an RMSD and Z-score. Also does database searches (input one structure, find all similar in PDB).\n",
    "\n",
    "* **TM-align** – Provided as a standalone program (open source from Zhang lab). Very fast; outputs the alignment and TM-score, RMSD, etc., and even a sequence alignment of the two proteins. **mmTM-align** is a variant for multiple structures.\n",
    "\n",
    "* **SuperPose** – A lightweight tool/server that given two PDB files will superimpose them and provide the alignment and RMSD. (There are also PyMOL scripts to superpose proteins if given a sequence alignment or if residues are labeled consistently.)\n",
    "\n",
    "* **CE** – Available in the PDB’s website and as part of the STAMP package; yields the alignment and can be used for multiple alignment as well.\n",
    "\n",
    "* **MUSTANG** – A program specifically for multiple protein structure alignment; useful for aligning a family of proteins to get a consensus 3D alignment.\n",
    "\n",
    "* **VAST** (Vector Alignment Search Tool) – NCBI’s tool for structure alignment, used to find similar structures in their MMDB database.\n",
    "\n",
    "* **PDBeFold (SSM)** – European Bioinformatics Institute’s service (formerly at MSD) for structure alignment, uses Secondary Structure Matching algorithm.\n",
    "\n",
    "* **UCSF Chimera** – an interactive visualization tool that can do pairwise structure alignment (it implements several algorithms like Needleman-Wunsch on Ca distances). PyMOL also has an `align` command (which does sequence alignment followed by fitting) and a `cealign` (implements CE algorithm).\n",
    "\n",
    "Most of these tools produce a rotation/translation matrix to superpose the coordinates, and an alignment listing which residues correspond. They also often highlight the aligned regions for visualization (e.g., output a PDB file with the two structures superimposed). Structural alignment software is continually refined, especially as the PDB grows and now with predicted models, to efficiently compare large sets of structures.\n",
    "\n",
    "---\n",
    "\n"
   ]
  },
  {
   "cell_type": "markdown",
   "id": "798626a7-64c0-488e-8a36-9ff3c4c01ffc",
   "metadata": {},
   "source": [
    "**Conclusion:** From simple edit distance calculations to complex structural superpositions, sequence comparison techniques form a theoretical and practical backbone of computational biology. We began with the fundamental dynamic programming algorithms for optimal alignment (Needleman–Wunsch for global, Smith–Waterman for local), which guarantee mathematically optimal solutions for pairwise alignments and are rooted in clear formal definitions. Building on those, heuristics allow scaling up to multiple sequence alignment, trading some optimality for efficiency in aligning dozens or thousands of sequences – essential for modern genomics and protein family analysis. These alignments then feed into phylogenetic tree construction, where algorithmic and statistical methods reconstruct evolutionary histories. Finally, structural alignment extends the concept beyond 1D sequences into 3D space, leveraging geometric algorithms to compare biological macromolecules. Throughout these tasks, careful consideration of scoring schemes, algorithmic complexity, and biological context is needed to draw sound conclusions. Increasingly, machine learning is complementing classical algorithms, offering new ways to learn scoring functions or navigate enormous search spaces (as in phylogenomics), but it builds upon the solid framework established by decades of bioinformatics research in sequence alignment. The tools and algorithms discussed illustrate the interplay of biology (evolutionary insights), mathematics (optimization and formal models), and computer science (efficient algorithms) that defines bioinformatics. Each has a host of software implementations, many open-source, empowering researchers to apply these methods to the deluge of biological sequence data and to decode the information it holds about life’s molecular history and mechanisms.\n"
   ]
  }
 ],
 "metadata": {
  "kernelspec": {
   "display_name": "Python 3 (ipykernel)",
   "language": "python",
   "name": "python3"
  },
  "language_info": {
   "codemirror_mode": {
    "name": "ipython",
    "version": 3
   },
   "file_extension": ".py",
   "mimetype": "text/x-python",
   "name": "python",
   "nbconvert_exporter": "python",
   "pygments_lexer": "ipython3",
   "version": "3.12.9"
  }
 },
 "nbformat": 4,
 "nbformat_minor": 5
}
