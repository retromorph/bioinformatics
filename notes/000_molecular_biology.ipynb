{
 "cells": [
  {
   "cell_type": "code",
   "execution_count": null,
   "id": "8a275403-87c8-4ce6-ba3f-982bcf8c5cf2",
   "metadata": {},
   "outputs": [],
   "source": []
  }
 ],
 "metadata": {
  "kernelspec": {
   "display_name": "",
   "name": ""
  },
  "language_info": {
   "name": ""
  }
 },
 "nbformat": 4,
 "nbformat_minor": 5
}
