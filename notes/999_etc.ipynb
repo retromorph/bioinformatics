{
 "cells": [
  {
   "cell_type": "markdown",
   "id": "5b90793c-e85e-4716-8f7c-4337656a3669",
   "metadata": {},
   "source": [
    "# Просто что-то интересное"
   ]
  },
  {
   "cell_type": "code",
   "execution_count": null,
   "id": "1aa37d4e-a124-43f5-9997-8d072b45da7a",
   "metadata": {},
   "outputs": [],
   "source": []
  }
 ],
 "metadata": {
  "kernelspec": {
   "display_name": "Python 3 (ipykernel)",
   "language": "python",
   "name": "python3"
  },
  "language_info": {
   "codemirror_mode": {
    "name": "ipython",
    "version": 3
   },
   "file_extension": ".py",
   "mimetype": "text/x-python",
   "name": "python",
   "nbconvert_exporter": "python",
   "pygments_lexer": "ipython3",
   "version": "3.12.9"
  }
 },
 "nbformat": 4,
 "nbformat_minor": 5
}
