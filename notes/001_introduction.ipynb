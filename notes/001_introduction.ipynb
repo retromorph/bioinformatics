{
 "cells": [
  {
   "cell_type": "markdown",
   "id": "76032160-8801-4732-bf4c-f93035177c16",
   "metadata": {},
   "source": [
    "# Введение в биоинформатику"
   ]
  },
  {
   "cell_type": "markdown",
   "id": "81db9bb8-a733-4e12-81ab-68439967c1df",
   "metadata": {},
   "source": [
    "## История биоинформатики"
   ]
  },
  {
   "cell_type": "markdown",
   "id": "6caa72fa-8439-41b4-b4d1-d3107267e5df",
   "metadata": {},
   "source": [
    "Here is a timeline of the main events covered in the sources, followed by a cast of characters:\n",
    "Detailed Timeline of Main Events\n",
    "1930s-1940s: Linus Pauling and Robert Corey demonstrate the rigid, planar structure of the peptide bond, crucial for understanding protein structure.\n",
    "\n",
    "1953: Watson and Crick describe the DNA double helix structure, including base pairing rules and the antiparallel orientation of strands.\n",
    "1970: Needleman and Wunsch develop an algorithm for global sequence alignment.\n",
    "1990: Affymetrix DNA microarray is introduced.\n",
    "1990: First genome of Haemophilus influenzae is sequenced.\n",
    "1994: The dbSTS database, dedicated to sequence-tagged sites (STSs), is established (later transferred to GenBank in 2013).\n",
    "Late 1990s: Expressed Sequence Tags (ESTs) become a significant tool for identifying new genes and splice variants.\n",
    "2000: The first issue of \"Nucleic Acids Research\" database issue is published, listing relevant biological databases.\n",
    "2000: The concept of the genetic code being universal with some exceptions in mitochondria and ciliates is widely accepted.\n",
    "2001: The draft human genome sequence is published by the Human Genome Project.\n",
    "2001: The number of protein-coding genes in the human genome is estimated to be between 30,000 and 35,000 (later revised to 19,000-20,000).\n",
    "2003: A consortium identifies almost 1.8 million Single-Nucleotide Polymorphisms (SNPs) in the human genome.\n",
    "July 2003: The first software issue of \"Nucleic Acids Research\" is published, listing freely available biological software.\n",
    "2005: The concept of pan-genomics is introduced by Tettelin and Medini.\n",
    "2007: Science nominates cancer immune therapy as the breakthrough of the year.\n",
    "2007: Epigenome maps of 127 human tissues and cells are released (likely related to the ENCODE pilot project mentioned in a reference).\n",
    "2008: Nature nominates Next-Generation Sequencing (NGS) as the Method of the Year.\n",
    "2010: First genome of Neanderthal man is sequenced.\n",
    "2011: The first clinical exome sequencing is used to rescue a sick child.\n",
    "2011: Pacific Biosystems (PacBio) introduces single-molecule real-time (SMRT) sequencing with the PacBio RS II sequencer.\n",
    "2012: A computational model of the human pathogen Mycoplasma genitalium is presented, simulating the whole cell and predicting observable cellular behavior.\n",
    "2013: dbSTS database is transferred to a division of GenBank.\n",
    "2015: First treatment of lung cancer with CRISPR-Cas9 gene scissors is reported.\n",
    "2016 (July): PubChem Compound database contains approximately 91 million molecules.\n",
    "2017 (January): dbGSS database stores more than 35 million sequences from over 1,000 organisms.\n",
    "2019: Oxford Nanopore PromethION sequencing is used to identify structural variants in the human genome.\n",
    "2019: BCC Research projects the global NGS market to reach 21.62 billion US dollars by 2025.\n",
    "2020: A review on bioinformatics and computational tools for NGS analysis in clinical genetics is published, detailing primary, secondary, and tertiary analysis workflows.\n",
    "2021: Spatially Resolved Transcriptomics is named Method of the Year by Nature Methods.\n",
    "\n",
    "\n",
    "Cast of Characters\n",
    "Linus Pauling: Contributed significantly to the understanding of protein structure, specifically the rigid, planar nature of the peptide bond.\n",
    "Robert Corey: Collaborated with Linus Pauling on studying the geometric properties of the peptide group.\n",
    "Watson and Crick: Described the double helix structure of DNA, a foundational discovery in molecular biology.\n",
    "Saul B. Needleman: Co-developed an algorithm for global sequence alignment.\n",
    "Christian D. Wunsch: Co-developed an algorithm for global sequence alignment.\n",
    "J. Craig Venter: Associated with the J. Craig Venter Institute, involved in gene analysis and genome sequencing projects.\n",
    "Christoph W. Sensen: Listed as a contributing author to \"Applied Bioinformatics,\" indicating a role in the creation of the source text.\n",
    "Rute Pereira: An author of the review \"Bioinformatics and Computational Tools for Next-Generation Sequencing Analysis in Clinical Genetics.\"\n",
    "Jorge Oliveira: An author of the review \"Bioinformatics and Computational Tools for Next-Generation Sequencing Analysis in Clinical Genetics.\"\n",
    "Mário Sousa: An author of the review \"Bioinformatics and Computational Tools for Next-Generation Sequencing Analysis in Clinical Genetics.\"\n",
    "J B Hagen: Author of \"The origins of bioinformatics,\" providing historical context for the field.\n",
    "S. Tettelin: Introduced the concept of pan-genomics in 2005.\n",
    "F. Medini: Introduced the concept of pan-genomics in 2005.\n",
    "Minoru Kanehisa: Associated with the KEGG database, a reference resource for gene and protein annotation and metabolic pathways.\n",
    "Dan Gusfield: Mentioned in the \"Bioinformatics - Wikipedia\" source as author of \"Algorithms on Strings, Trees and Sequences: Computer Science and Computational Biology,\" indicating a key figure in the algorithmic aspects of bioinformatics.\n",
    "Joao Carlos Setubal: Mentioned in the \"Bioinformatics - Wikipedia\" source as author of \"Introduction to Computational Biology: An Evolutionary Approach,\" indicating a figure in the educational aspects of computational biology.\n",
    "Nagaswamy Balakrishnan: Mentioned in the \"Bioinformatics - Wikipedia\" source as author of \"Bioinformatics: Sequence and Genome Analysis,\" indicating a figure in the analysis of biological sequences.\n",
    "Pavel Pevzner: Mentioned in the \"Bioinformatics - Wikipedia\" source as author of \"Bioinformatics and Sequence Analysis,\" indicating a figure in sequence analysis within bioinformatics."
   ]
  },
  {
   "cell_type": "code",
   "execution_count": null,
   "id": "10cd503d-3124-425a-a56c-2f2fd835c4f6",
   "metadata": {},
   "outputs": [],
   "source": []
  }
 ],
 "metadata": {
  "kernelspec": {
   "display_name": "Python 3 (ipykernel)",
   "language": "python",
   "name": "python3"
  },
  "language_info": {
   "codemirror_mode": {
    "name": "ipython",
    "version": 3
   },
   "file_extension": ".py",
   "mimetype": "text/x-python",
   "name": "python",
   "nbconvert_exporter": "python",
   "pygments_lexer": "ipython3",
   "version": "3.12.9"
  }
 },
 "nbformat": 4,
 "nbformat_minor": 5
}
